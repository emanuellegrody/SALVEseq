{
 "cells": [
  {
   "cell_type": "markdown",
   "metadata": {
    "deletable": false,
    "editable": false
   },
   "source": [
    "# Read and write images"
   ]
  },
  {
   "cell_type": "code",
   "execution_count": 1,
   "metadata": {
    "ExecuteTime": {
     "end_time": "2022-04-25T22:43:54.023102Z",
     "start_time": "2022-04-25T22:43:52.048260Z"
    },
    "deletable": false,
    "editable": false
   },
   "outputs": [
    {
     "name": "stdout",
     "output_type": "stream",
     "text": [
      "Big-FISH version: 0.6.2\n"
     ]
    }
   ],
   "source": [
    "import os\n",
    "import bigfish\n",
    "import bigfish.stack as stack\n",
    "import bigfish.multistack as multistack\n",
    "print(\"Big-FISH version: {0}\".format(bigfish.__version__))"
   ]
  },
  {
   "cell_type": "code",
   "execution_count": 2,
   "metadata": {
    "ExecuteTime": {
     "end_time": "2022-04-25T22:43:54.157538Z",
     "start_time": "2022-04-25T22:43:54.026459Z"
    },
    "deletable": false,
    "editable": false
   },
   "outputs": [
    {
     "name": "stdout",
     "output_type": "stream",
     "text": [
      "experiment_1_dapi_fov_1.tif is already in the directory\n",
      "experiment_1_smfish_fov_1.tif is already in the directory\n"
     ]
    }
   ],
   "source": [
    "# hard-code the paths of our input and output directories\n",
    "path_input = \"../data/input\"\n",
    "path_output = \"../data/output\"\n",
    "\n",
    "# check input images are loaded\n",
    "stack.check_input_data(path_input)"
   ]
  },
  {
   "cell_type": "markdown",
   "metadata": {
    "deletable": false,
    "editable": false
   },
   "source": [
    "This notebook shows examples to read and organize images. The output returned by a **Fluorescence In Situ Hybridization (FISH)** experiment consists in multichannel 2D or 3D images. For some techniques, several round of acquisitions compose the image. For these reasons, we expect to work with 5D tensors at the most: \n",
    "- one dimension r for the **round**\n",
    "- one dimension c for the **channel**\n",
    "- three **spatial** dimensions z,y and x\n",
    "\n",
    "Yet, most of the analysis and transformations are applied at the channel level, directly over 3D or 2D images. For this reason, the beginning of the notebook show concrete examples to read and write single images."
   ]
  },
  {
   "cell_type": "markdown",
   "metadata": {
    "deletable": false,
    "editable": false
   },
   "source": [
    "## Read and write arrays"
   ]
  },
  {
   "cell_type": "markdown",
   "metadata": {
    "deletable": false,
    "editable": false
   },
   "source": [
    "If you do not need to read different layers at the same time and rearrange them in a specific order, you can directly read files from their path:\n",
    "- for *.png*, *.jpg*, *.jpeg*, *.tif* or *.tiff* extensions use `bigfish.stack.read_image`\n",
    "- for *.dv* extension use `bigfish.stack.read_dv`\n",
    "\n",
    "You can also read metadata or results specific file format:\n",
    "- for *.npy* extension use `bigfish.stack.read_array`\n",
    "- for *.npz* extension use `bigfish.stack.read_uncompressed`\n",
    "- for *.csv* extension without header use `bigfish.stack.read_array_from_csv`\n",
    "- for *.csv* extension with header use `bigfish.stack.read_dataframe_from_csv`"
   ]
  },
  {
   "cell_type": "code",
   "execution_count": 3,
   "metadata": {
    "ExecuteTime": {
     "end_time": "2022-04-25T22:43:54.179875Z",
     "start_time": "2022-04-25T22:43:54.159914Z"
    },
    "deletable": false,
    "editable": false,
    "scrolled": true
   },
   "outputs": [
    {
     "name": "stdout",
     "output_type": "stream",
     "text": [
      "\r",
      " shape: (23, 650, 500)\n",
      "\r",
      " dtype: uint16\n"
     ]
    }
   ],
   "source": [
    "path_dapi = os.path.join(path_input, \"experiment_1_dapi_fov_1.tif\")\n",
    "image = stack.read_image(path_dapi)\n",
    "print(\"\\r shape: {0}\".format(image.shape))\n",
    "print(\"\\r dtype: {0}\".format(image.dtype))"
   ]
  },
  {
   "cell_type": "markdown",
   "metadata": {
    "deletable": false,
    "editable": false
   },
   "source": [
    "Same logic if you want to save images or arrays:\n",
    "- for *.png*, *.jpg*, *.jpeg*, *.tif* or *.tiff* extensions use `bigfish.stack.save_image`\n",
    "- for *.npy* extension use `bigfish.stack.save_array`\n",
    "- for *.csv* extension use `bigfish.stack.save_data_to_csv`"
   ]
  },
  {
   "cell_type": "markdown",
   "metadata": {
    "deletable": false,
    "editable": false
   },
   "source": [
    "## Experiences, fields of view and recipes"
   ]
  },
  {
   "cell_type": "markdown",
   "metadata": {
    "deletable": false,
    "editable": false
   },
   "source": [
    "We assume a biologist to acquire one or several **fields of view (FoV)** per **experiment**. All images from the same experiment should be in the same input directory.\n",
    "\n",
    "To load these fov with bigFISH, we need to directly read the 3D or 2D images and organize them by channels and rounds if necessary. For this purpose, **we define recipes that map together the different layers of a FoV**. We also expect the biologist to directly save the 3D or 2D images, with an appropriate name including the information about the experiment, the fov, the channel and the round."
   ]
  },
  {
   "cell_type": "code",
   "execution_count": 4,
   "metadata": {
    "ExecuteTime": {
     "end_time": "2022-04-25T22:43:54.195925Z",
     "start_time": "2022-04-25T22:43:54.183424Z"
    },
    "deletable": false,
    "editable": false
   },
   "outputs": [
    {
     "data": {
      "text/plain": [
       "['.DS_Store',\n",
       " 'experiment_1_smfish_fov_1.tif',\n",
       " 'example_cell_full.tif',\n",
       " 'example_nuc_full.tif',\n",
       " '.gitignore',\n",
       " 'experiment_1_dapi_fov_1.tif']"
      ]
     },
     "execution_count": 4,
     "metadata": {},
     "output_type": "execute_result"
    }
   ],
   "source": [
    "os.listdir(path_input)"
   ]
  },
  {
   "cell_type": "markdown",
   "metadata": {
    "deletable": false,
    "editable": false
   },
   "source": [
    "For example, in our input directory we saved two files corresponding to two different channels (dapi and FISH) from the same fov and the same experiment. Each file is a 3D image. We want to read these two images and stack them together along a new channel dimension. A correct recipe would be:"
   ]
  },
  {
   "cell_type": "code",
   "execution_count": 5,
   "metadata": {
    "ExecuteTime": {
     "end_time": "2022-04-25T22:43:54.202457Z",
     "start_time": "2022-04-25T22:43:54.199351Z"
    },
    "deletable": false,
    "editable": false
   },
   "outputs": [],
   "source": [
    "recipe = {\n",
    "    \"fov\": \"fov_1\",\n",
    "    \"c\": [\"dapi\", \"smfish\"],\n",
    "    \"opt\": \"experiment_1\",\n",
    "    \"ext\": \"tif\",\n",
    "    \"pattern\": \"opt_c_fov.ext\"}"
   ]
  },
  {
   "cell_type": "markdown",
   "metadata": {
    "deletable": false,
    "editable": false
   },
   "source": [
    "In this recipe, we specify different keys:\n",
    "- the **FoV** (*fov_1*) shared by the two files\n",
    "- an **optional term** (*experiment_1*) shared by the two files\n",
    "- a list of keys to distinguish the different **channels** (*dapi* and *smfish*)\n",
    "- the **extension** name (*tif*) shared by the two files\n",
    "- the **general pattern** of the filenames (*opt_c_fov.ext* as a template for *experiment_1_{c}\\_fov_1.tif*)\n",
    "\n",
    "We can use the elements provided in the recipe to recognize the filenames of the different files, read them and gather them accordingly in order to build a 5D image: **(round, channel, z, y, x)**."
   ]
  },
  {
   "cell_type": "code",
   "execution_count": 6,
   "metadata": {
    "ExecuteTime": {
     "end_time": "2022-04-25T22:43:54.211568Z",
     "start_time": "2022-04-25T22:43:54.205759Z"
    },
    "deletable": false,
    "editable": false
   },
   "outputs": [
    {
     "data": {
      "text/plain": [
       "True"
      ]
     },
     "execution_count": 6,
     "metadata": {},
     "output_type": "execute_result"
    }
   ],
   "source": [
    "# function to check if your recipe is correctly defined and files actually exist\n",
    "multistack.check_recipe(recipe, data_directory=path_input)"
   ]
  },
  {
   "cell_type": "markdown",
   "metadata": {
    "deletable": false,
    "editable": false
   },
   "source": [
    "__Note 1:__ A recipe can take into account others elements. The general pattern excepted, these elements are all optional and depend of the filenames we want to recognize. If a 3D image is decomposed in 2D layers, a __z__ key would be necessary in order to correctly stack the 2D images along the z axis (in the right order). The same logic happens if we want to stack layers from different rounds to build our final image, with a **r** key.\n",
    "\n",
    "    {\n",
    "    \"fov\": str or List[str], (optional)\n",
    "    \"z\": str or List[str],   (optional)\n",
    "    \"c\": str or List[str],   (optional)\n",
    "    \"r\": str or List[str],   (optional)\n",
    "    \"ext\": str,              (optional)\n",
    "    \"opt\": str,              (optional)\n",
    "    \"pattern\": str\n",
    "    }\n",
    "    \n",
    "__Note 2:__ If you have a large number of images to read, keeping the same template to name your files will simplify your life."
   ]
  },
  {
   "cell_type": "markdown",
   "metadata": {
    "deletable": false,
    "editable": false
   },
   "source": [
    "### Build a multichannel image with a recipe"
   ]
  },
  {
   "cell_type": "code",
   "execution_count": 7,
   "metadata": {
    "ExecuteTime": {
     "end_time": "2022-04-25T22:43:54.309144Z",
     "start_time": "2022-04-25T22:43:54.214141Z"
    },
    "deletable": false,
    "editable": false
   },
   "outputs": [
    {
     "name": "stdout",
     "output_type": "stream",
     "text": [
      "\r",
      " shape: (1, 2, 23, 650, 500)\n",
      "\r",
      " dtype: uint16\n"
     ]
    }
   ],
   "source": [
    "image = multistack.build_stack(recipe, input_folder=path_input) \n",
    "print(\"\\r shape: {0}\".format(image.shape))\n",
    "print(\"\\r dtype: {0}\".format(image.dtype))"
   ]
  },
  {
   "cell_type": "markdown",
   "metadata": {
    "ExecuteTime": {
     "end_time": "2020-03-04T11:22:19.878026Z",
     "start_time": "2020-03-04T11:22:19.875311Z"
    },
    "deletable": false,
    "editable": false
   },
   "source": [
    "As expected, we return a 3D image with 1 round and 2 channels. "
   ]
  },
  {
   "cell_type": "markdown",
   "metadata": {
    "deletable": false,
    "editable": false
   },
   "source": [
    "### Build several multichannel images with recipes"
   ]
  },
  {
   "cell_type": "markdown",
   "metadata": {
    "deletable": false,
    "editable": false
   },
   "source": [
    "If we want to read several multichannel images, we can define a **generator** (files are read and image is build only when it is called). The first step consists in **mapping different recipes with their relative input directory**:"
   ]
  },
  {
   "cell_type": "code",
   "execution_count": 8,
   "metadata": {
    "ExecuteTime": {
     "end_time": "2022-04-25T22:43:54.322875Z",
     "start_time": "2022-04-25T22:43:54.314213Z"
    },
    "deletable": false,
    "editable": false
   },
   "outputs": [
    {
     "data": {
      "text/plain": [
       "True"
      ]
     },
     "execution_count": 8,
     "metadata": {},
     "output_type": "execute_result"
    }
   ],
   "source": [
    "# as an example, we just duplicate the same recipe\n",
    "data_map = [\n",
    "    (recipe, path_input),\n",
    "    (recipe, path_input),\n",
    "    (recipe, path_input),\n",
    "]\n",
    "\n",
    "# function to check if your mapping (recipe, input directory) is correct\n",
    "multistack.check_datamap(data_map)"
   ]
  },
  {
   "cell_type": "code",
   "execution_count": 9,
   "metadata": {
    "ExecuteTime": {
     "end_time": "2022-04-25T22:43:54.473622Z",
     "start_time": "2022-04-25T22:43:54.325688Z"
    },
    "deletable": false,
    "editable": false
   },
   "outputs": [
    {
     "name": "stdout",
     "output_type": "stream",
     "text": [
      "Image 0\n",
      "\r",
      " shape: (1, 2, 23, 650, 500)\n",
      "\r",
      " dtype: uint16 \n",
      "\n",
      "Image 1\n",
      "\r",
      " shape: (1, 2, 23, 650, 500)\n",
      "\r",
      " dtype: uint16 \n",
      "\n",
      "Image 2\n",
      "\r",
      " shape: (1, 2, 23, 650, 500)\n",
      "\r",
      " dtype: uint16 \n",
      "\n"
     ]
    }
   ],
   "source": [
    "image_generator = multistack.build_stacks(data_map)\n",
    "for i, image in enumerate(image_generator):\n",
    "    print(\"Image {0}\".format(i))\n",
    "    print(\"\\r shape: {0}\".format(image.shape))\n",
    "    print(\"\\r dtype: {0}\".format(image.dtype), \"\\n\")"
   ]
  },
  {
   "cell_type": "markdown",
   "metadata": {
    "deletable": false,
    "editable": false
   },
   "source": [
    "__Note:__ A generator can be used to read several images from the same recipe if you provide several FoV in this recipe."
   ]
  },
  {
   "cell_type": "code",
   "execution_count": 10,
   "metadata": {
    "ExecuteTime": {
     "end_time": "2022-04-25T22:43:54.556775Z",
     "start_time": "2022-04-25T22:43:54.477221Z"
    },
    "deletable": false,
    "editable": false
   },
   "outputs": [
    {
     "name": "stdout",
     "output_type": "stream",
     "text": [
      "Image 0\n",
      "\r",
      " shape: (1, 2, 23, 650, 500)\n",
      "\r",
      " dtype: uint16 \n",
      "\n",
      "Image 1\n",
      "\r",
      " shape: (1, 2, 23, 650, 500)\n",
      "\r",
      " dtype: uint16 \n",
      "\n"
     ]
    }
   ],
   "source": [
    "recipe = {\n",
    "    \"fov\": [\"fov_1\", \"fov_1\"],\n",
    "    \"c\": [\"dapi\", \"smfish\"],\n",
    "    \"opt\": \"experiment_1\",\n",
    "    \"ext\": \"tif\",\n",
    "    \"pattern\": \"opt_c_fov.ext\"}\n",
    "data_map = [(recipe, path_input)]\n",
    "image_generator = multistack.build_stacks(data_map)\n",
    "for i, image in enumerate(image_generator):\n",
    "    print(\"Image {0}\".format(i))\n",
    "    print(\"\\r shape: {0}\".format(image.shape))\n",
    "    print(\"\\r dtype: {0}\".format(image.dtype), \"\\n\")"
   ]
  },
  {
   "cell_type": "markdown",
   "metadata": {
    "deletable": false,
    "editable": false
   },
   "source": [
    "### Build a multichannel image without recipe"
   ]
  },
  {
   "cell_type": "markdown",
   "metadata": {
    "deletable": false,
    "editable": false
   },
   "source": [
    "To load an image without defining a recipe, we need to list the **paths** of the different layers to stack together, in the right order."
   ]
  },
  {
   "cell_type": "code",
   "execution_count": 11,
   "metadata": {
    "ExecuteTime": {
     "end_time": "2022-04-25T22:43:54.589219Z",
     "start_time": "2022-04-25T22:43:54.560457Z"
    },
    "deletable": false,
    "editable": false,
    "scrolled": true
   },
   "outputs": [
    {
     "name": "stdout",
     "output_type": "stream",
     "text": [
      "\r",
      " shape: (1, 2, 23, 650, 500)\n",
      "\r",
      " dtype: uint16\n"
     ]
    }
   ],
   "source": [
    "# list paths. of the files to stack\n",
    "path_dapi = os.path.join(path_input, \"experiment_1_dapi_fov_1.tif\")\n",
    "path_smfish = os.path.join(path_input, \"experiment_1_smfish_fov_1.tif\")\n",
    "paths = [path_dapi, path_smfish]\n",
    "\n",
    "# load the layers and build the image\n",
    "image = multistack.build_stack_no_recipe(paths)\n",
    "print(\"\\r shape: {0}\".format(image.shape))\n",
    "print(\"\\r dtype: {0}\".format(image.dtype))"
   ]
  }
 ],
 "metadata": {
  "kernelspec": {
   "display_name": "Python [conda env:bigfish]",
   "language": "python",
   "name": "conda-env-bigfish-py"
  },
  "language_info": {
   "codemirror_mode": {
    "name": "ipython",
    "version": 3
   },
   "file_extension": ".py",
   "mimetype": "text/x-python",
   "name": "python",
   "nbconvert_exporter": "python",
   "pygments_lexer": "ipython3",
   "version": "3.6.8"
  }
 },
 "nbformat": 4,
 "nbformat_minor": 2
}
